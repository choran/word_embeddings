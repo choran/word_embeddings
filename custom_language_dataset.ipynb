{
 "cells": [
  {
   "cell_type": "code",
   "execution_count": 1,
   "metadata": {},
   "outputs": [],
   "source": [
    "import string\n",
    "from random import choice"
   ]
  },
  {
   "cell_type": "code",
   "execution_count": 2,
   "metadata": {},
   "outputs": [],
   "source": [
    "alpha_d = dict.fromkeys(string.ascii_lowercase, 0)"
   ]
  },
  {
   "cell_type": "code",
   "execution_count": 9,
   "metadata": {},
   "outputs": [],
   "source": [
    "common_words = ['@', '&', '*', '+']"
   ]
  },
  {
   "cell_type": "code",
   "execution_count": 3,
   "metadata": {
    "scrolled": true
   },
   "outputs": [],
   "source": [
    "vocab = {}\n",
    "for c, l in enumerate(alpha_d, 0):\n",
    "    vocab[c] = l*3"
   ]
  },
  {
   "cell_type": "code",
   "execution_count": 4,
   "metadata": {},
   "outputs": [],
   "source": [
    "sen_num = 30000\n",
    "sen_len = 7\n",
    "vocab_len = 26"
   ]
  },
  {
   "cell_type": "markdown",
   "metadata": {},
   "source": [
    "### Random vocab\n",
    "Let's create a dataset where the relationship between words is completely random <br>\n",
    "When we train this we would want to see no clear order between any words"
   ]
  },
  {
   "cell_type": "code",
   "execution_count": 5,
   "metadata": {},
   "outputs": [
    {
     "name": "stdout",
     "output_type": "stream",
     "text": [
      "CPU times: user 267 ms, sys: 5.35 ms, total: 272 ms\n",
      "Wall time: 273 ms\n"
     ]
    }
   ],
   "source": [
    "%%time\n",
    "text_file = open(\"random_vocab.txt\", \"a\")\n",
    "text_file.truncate(0)\n",
    "for s in range(sen_num):\n",
    "    sentence = []\n",
    "    for w in range(0, sen_len):\n",
    "        i = choice(range(0, vocab_len))\n",
    "        sentence.append(vocab[i])\n",
    "    text_file.write(\" \".join(sentence))\n",
    "    text_file.write(\"\\n\")\n",
    "text_file.close()"
   ]
  },
  {
   "cell_type": "markdown",
   "metadata": {},
   "source": [
    "### Proximity vocab\n",
    "Now lets put some structure on our neew language <br>\n",
    "We will ensure that words should only appear in sentences similar to their alphabet locations <br>\n",
    "So \"aaa\" will be close to \"bbb\" and \"ccc\", \"bbb\" will be close to \"ccc\" and \"ddd\" amd so on"
   ]
  },
  {
   "cell_type": "code",
   "execution_count": 6,
   "metadata": {
    "scrolled": true
   },
   "outputs": [
    {
     "name": "stdout",
     "output_type": "stream",
     "text": [
      "CPU times: user 439 ms, sys: 5.22 ms, total: 444 ms\n",
      "Wall time: 444 ms\n"
     ]
    }
   ],
   "source": [
    "%%time\n",
    "prev_word = None\n",
    "text_file = open(\"proximity_vocab.txt\", \"a\")\n",
    "text_file.truncate(0)\n",
    "for s in range(sen_num):\n",
    "    sentence = []\n",
    "    start_word = choice(range(0, 18))\n",
    "    for w in range(0, sen_len):\n",
    "        i = choice([x for x in range(start_word+w+0, start_word+w+3) if x not in [prev_word]])\n",
    "        sentence.append(vocab[i])\n",
    "        prev_word = i\n",
    "    text_file.write(\" \".join(sentence))\n",
    "    text_file.write(\"\\n\")\n",
    "text_file.close()"
   ]
  },
  {
   "cell_type": "code",
   "execution_count": 7,
   "metadata": {},
   "outputs": [
    {
     "name": "stdout",
     "output_type": "stream",
     "text": [
      "Full list: ['aaa', 'bbb', 'ccc', 'ddd', 'eee', 'fff', 'ggg', 'hhh', 'iii', 'jjj', 'kkk', 'lll', 'mmm', 'nnn', 'ooo', 'ppp', 'qqq', 'rrr', 'sss', 'ttt', 'uuu', 'vvv', 'www', 'xxx', 'yyy', 'zzz']\n",
      "Vocab size: 26\n"
     ]
    }
   ],
   "source": [
    "s = set([])\n",
    "with open(\"proximity_vocab.txt\", \"r\") as test_file:\n",
    "    for l in test_file.readlines():\n",
    "        s.update([x for x in l.split()])\n",
    "print(f'Full list: {sorted(s)}')\n",
    "print(f'Vocab size: {len(s)}')"
   ]
  },
  {
   "cell_type": "markdown",
   "metadata": {},
   "source": [
    "### Proximity and conjunction vocab"
   ]
  },
  {
   "cell_type": "code",
   "execution_count": 10,
   "metadata": {},
   "outputs": [
    {
     "name": "stdout",
     "output_type": "stream",
     "text": [
      "CPU times: user 507 ms, sys: 4.78 ms, total: 512 ms\n",
      "Wall time: 522 ms\n"
     ]
    }
   ],
   "source": [
    "%%time\n",
    "from random import choice\n",
    "prev_word = None\n",
    "text_file = open(\"proximity_conjunction_vocab.txt\", \"a\")\n",
    "text_file.truncate(0)\n",
    "for s in range(sen_num):\n",
    "    sentence = []\n",
    "    start_word = choice(range(0, 18))\n",
    "    for w in range(0, sen_len):\n",
    "        i = choice([x for x in range(start_word+w+0, start_word+w+3) if x not in [prev_word]])\n",
    "        sentence.append(vocab[i])\n",
    "        if w % 2:\n",
    "            c = choice(common_words)\n",
    "            sentence.append(c)\n",
    "        prev_word = i\n",
    "    text_file.write(\" \".join(sentence))\n",
    "    text_file.write(\"\\n\")\n",
    "text_file.close()"
   ]
  },
  {
   "cell_type": "code",
   "execution_count": null,
   "metadata": {},
   "outputs": [],
   "source": []
  }
 ],
 "metadata": {
  "kernelspec": {
   "display_name": "Python 3",
   "language": "python",
   "name": "python3"
  },
  "language_info": {
   "codemirror_mode": {
    "name": "ipython",
    "version": 3
   },
   "file_extension": ".py",
   "mimetype": "text/x-python",
   "name": "python",
   "nbconvert_exporter": "python",
   "pygments_lexer": "ipython3",
   "version": "3.7.5"
  }
 },
 "nbformat": 4,
 "nbformat_minor": 4
}
